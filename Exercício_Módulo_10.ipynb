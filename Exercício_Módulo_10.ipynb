{
  "nbformat": 4,
  "nbformat_minor": 0,
  "metadata": {
    "colab": {
      "provenance": []
    },
    "kernelspec": {
      "name": "python3",
      "display_name": "Python 3"
    }
  },
  "cells": [
    {
      "cell_type": "markdown",
      "metadata": {
        "id": "KJqp9AANOCtf"
      },
      "source": [
        "<img src=\"https://raw.githubusercontent.com/andre-marcos-perez/ebac-course-utils/main/media/logo/newebac_logo_black_half.png\" alt=\"ebac-logo\">\n",
        "\n",
        "---\n",
        "\n",
        "# **Módulo** | Análise de Dados: Coleta de Dados I\n",
        "Caderno de **Exercícios**<br>\n",
        "Professor [André Perez](https://www.linkedin.com/in/andremarcosperez/)\n",
        "\n",
        "---"
      ]
    },
    {
      "cell_type": "markdown",
      "metadata": {
        "id": "d9jDtUbDOE1-"
      },
      "source": [
        "# **Tópicos**\n",
        "\n",
        "<ol type=\"1\">\n",
        "  <li>Arquivos CSV;</li>\n",
        "  <li>Arquivos Texto;</li>\n",
        "  <li>Arquivos Excel.</li>\n",
        "</ol>"
      ]
    },
    {
      "cell_type": "markdown",
      "metadata": {
        "id": "SmoHgt-lwkpD"
      },
      "source": [
        "---"
      ]
    },
    {
      "cell_type": "markdown",
      "metadata": {
        "id": "GABI6OW8OfQ2"
      },
      "source": [
        "# **Exercícios**"
      ]
    },
    {
      "cell_type": "markdown",
      "metadata": {
        "id": "muD1vxozykSC"
      },
      "source": [
        "## 0\\. Preparando o ambiente"
      ]
    },
    {
      "cell_type": "markdown",
      "metadata": {
        "id": "ByX7SUjNKk2K"
      },
      "source": [
        "Vamos explorar dados de crédito presentes no arquivo `credito.xlsx` ([link](https://raw.githubusercontent.com/andre-marcos-perez/ebac-course-utils/develop/dataset/credito.xlsx)). Os dados estão no formato de **Excel** (XLSX) e contém informações sobre clientes de uma instituição financeira. Em especial, estamos interessados em explicar a segunda coluna, chamada de **default**, que indica se um cliente é adimplente (`default = 0`), ou inadimplente (`default = 1`), ou seja, queremos entender o porque um cliente deixa de honrar com suas dívidas baseado no comportamento de outros atributos, como salário, escolaridade e movimentação financeira. Uma descrição completa dos atributos está abaixo."
      ]
    },
    {
      "cell_type": "markdown",
      "metadata": {
        "id": "Z5Fd0NSVLnwE"
      },
      "source": [
        "\n",
        "\n",
        "| Coluna  | Descrição |\n",
        "| ------- | --------- |\n",
        "| id      | Número da conta |\n",
        "| default | Indica se o cliente é adimplente (0) ou inadimplente (1) |\n",
        "| idade   | --- |\n",
        "| sexo    | --- |\n",
        "| depedentes | --- |\n",
        "| escolaridade | --- |\n",
        "| estado_civil | --- |\n",
        "| salario_anual | Faixa do salario mensal multiplicado por 12 |\n",
        "| tipo_cartao | Categoria do cartao: blue, silver, gold e platinium |\n",
        "| meses_de_relacionamento | Quantidade de meses desde a abertura da conta |\n",
        "| qtd_produtos | Quantidade de produtos contratados |\n",
        "| iteracoes_12m | Quantidade de iteracoes com o cliente no último ano |\n",
        "| meses_inatico_12m | Quantidade de meses que o cliente ficou inativo no último ano |\n",
        "| limite_credito | Valor do limite do cartão de crédito |\n",
        "| valor_transacoes_12m | Soma total do valor das transações no cartão de crédito no último ano |\n",
        "| qtd_transacoes_12m | Quantidade total de transações no cartão de crédito no último ano |\n",
        "\n"
      ]
    },
    {
      "cell_type": "markdown",
      "metadata": {
        "id": "peEbZE2vcMaH"
      },
      "source": [
        "Faça o download do arquivo `credito.xlsx` com a célula de código abaixo."
      ]
    },
    {
      "cell_type": "code",
      "metadata": {
        "id": "hyG8xFuWc16L",
        "colab": {
          "base_uri": "https://localhost:8080/"
        },
        "outputId": "5cf7e551-52e2-4e6f-97e3-c4d96c505990"
      },
      "source": [
        "!wget --show-progress --continue -O ./credito.xlsx https://raw.githubusercontent.com/andre-marcos-perez/ebac-course-utils/main/dataset/credito.xlsx"
      ],
      "execution_count": null,
      "outputs": [
        {
          "output_type": "stream",
          "name": "stdout",
          "text": [
            "--2023-12-05 00:18:09--  https://raw.githubusercontent.com/andre-marcos-perez/ebac-course-utils/main/dataset/credito.xlsx\n",
            "Resolving raw.githubusercontent.com (raw.githubusercontent.com)... 185.199.111.133, 185.199.109.133, 185.199.110.133, ...\n",
            "Connecting to raw.githubusercontent.com (raw.githubusercontent.com)|185.199.111.133|:443... connected.\n",
            "HTTP request sent, awaiting response... 200 OK\n",
            "Length: 748185 (731K) [application/octet-stream]\n",
            "Saving to: ‘./credito.xlsx’\n",
            "\n",
            "\r./credito.xlsx        0%[                    ]       0  --.-KB/s               \r./credito.xlsx      100%[===================>] 730.65K  --.-KB/s    in 0.06s   \n",
            "\n",
            "2023-12-05 00:18:09 (11.3 MB/s) - ‘./credito.xlsx’ saved [748185/748185]\n",
            "\n"
          ]
        }
      ]
    },
    {
      "cell_type": "markdown",
      "metadata": {
        "id": "zMN1Q3jdwoJm"
      },
      "source": [
        "---"
      ]
    },
    {
      "cell_type": "markdown",
      "metadata": {
        "id": "GWgNoJN8DHyY"
      },
      "source": [
        "## 1\\. Excel para CSV"
      ]
    },
    {
      "cell_type": "markdown",
      "metadata": {
        "id": "YynK1vf2DHyj"
      },
      "source": [
        "Utilizando o pacote Python `openpyxl` visto em aula, extraia os seguintes as colunas `id`, `sexo` e `idade` para dos clientes inadimplentes (`default = 1`) e solteiros (`estado_civil = 'solteiro'`). Salves os dados extraídos no arquivo csv `credito.csv` separado por `;`. Exemplo do cabeçalho e das três primeiras linhas:\n",
        "\n",
        "```\n",
        "id;sexo;idade\n",
        "767712558;59;M\n",
        "713741358;46;M\n",
        "772390908;59;M\n",
        "```\n",
        "\n",
        "**Dica:** O arquivo csv `credito.csv` deve ter 669 linhas, contando com o cabeçalho.\n",
        "\n",
        "**Nota:** Escreva o código da sua solução abaixo em uma ou mais células, você não precisa enviar o arquivo csv gerado."
      ]
    },
    {
      "cell_type": "code",
      "metadata": {
        "id": "hVK8QyFvE-wk",
        "colab": {
          "base_uri": "https://localhost:8080/"
        },
        "outputId": "10a6e73b-0429-43ec-f6b4-5530e29f91b8"
      },
      "source": [
        "# solução do exercício 1\n",
        "import openpyxl\n",
        "import csv\n",
        "\n",
        "# Carregar o arquivo Excel\n",
        "arquivo_excel = \"credito.xlsx\"\n",
        "\n",
        "# Criar uma instância do workbook (abrir o arquivo Excel)\n",
        "workbook = openpyxl.load_workbook(arquivo_excel)\n",
        "\n",
        "# Verificar os nomes das planilhas disponíveis\n",
        "nomes_planilhas = workbook.sheetnames\n",
        "print(\"Nomes das Planilhas:\", nomes_planilhas)\n",
        "\n",
        "# Selecionar a planilha desejada (por exemplo, a primeira planilha)\n",
        "planilha_nome = nomes_planilhas[0]  # Pode ser ajustado conforme necessário\n",
        "planilha = workbook[planilha_nome]\n",
        "\n",
        "# Inicializar uma lista para armazenar os dados\n",
        "dados_extraidos = []\n",
        "\n",
        "# Iterar sobre as linhas da planilha\n",
        "for linha in planilha.iter_rows(min_row=2, values_only=True):\n",
        "    # Extrair colunas id, sexo e idade para clientes inadimplentes e solteiros\n",
        "    if linha[1] == 1 and linha[6] == 'solteiro':\n",
        "        dados_cliente = (linha[0], linha[3], linha[2])  # id, sexo, idade\n",
        "        dados_extraidos.append(dados_cliente)\n",
        "\n",
        "# Fechar o arquivo Excel após a leitura\n",
        "workbook.close()\n",
        "\n",
        "# Salvar os dados extraídos no arquivo CSV com colunas separadas\n",
        "arquivo_csv = \"credito.csv\"\n",
        "\n",
        "with open(arquivo_csv, mode='w', newline='', encoding='utf-8') as csv_file:\n",
        "    # Configurar o escritor CSV usando a vírgula como delimitador\n",
        "    csv_writer = csv.writer(csv_file, delimiter=',')\n",
        "\n",
        "    # Escrever o cabeçalho no arquivo CSV\n",
        "    csv_writer.writerow([\"id\", \"sexo\", \"idade\"])\n",
        "\n",
        "    # Escrever os dados extraídos no arquivo CSV\n",
        "    csv_writer.writerows(dados_extraidos)\n",
        "\n",
        "print(\"Extração concluída. Os dados foram salvos em\", arquivo_csv)\n"
      ],
      "execution_count": null,
      "outputs": [
        {
          "output_type": "stream",
          "name": "stdout",
          "text": [
            "Nomes das Planilhas: ['credito']\n",
            "Extração concluída. Os dados foram salvos em credito.csv\n"
          ]
        }
      ]
    },
    {
      "cell_type": "markdown",
      "metadata": {
        "id": "waxn4B2UDHyl"
      },
      "source": [
        "---"
      ]
    },
    {
      "cell_type": "markdown",
      "metadata": {
        "id": "finLQoyyGVmk"
      },
      "source": [
        "## 2\\. Excel para JSON"
      ]
    },
    {
      "cell_type": "markdown",
      "metadata": {
        "id": "99BrnqR4GVmy"
      },
      "source": [
        "Como preparação para o próximo módulo, vamos trabalhar com o JSON, um formato semi-estruturado, muito utilizado em transmissão de dados da web e equivalente a um **dicionário** Python."
      ]
    },
    {
      "cell_type": "markdown",
      "metadata": {
        "id": "AQqks_tohV8k"
      },
      "source": [
        "Utilizando o pacote Python `openpyxl` visto em aula, extraia os dados das colunas `escolaridade` e `tipo_cartao`, removendo duplicados. Com os dados, construa o dicionário Python `credito` com a seguinte estrutura:\n",
        "\n",
        "```python\n",
        "credito = {\n",
        "  'tipo_cartao': ['silver', 'blue', 'gold', 'platinum'],\n",
        "  'escolaridade': ['doutorado', 'mestrado', 'na', 'sem educacao formal', 'graduacao', 'ensino medio']\n",
        "}\n",
        "```\n",
        "\n",
        "Para finalizar, utilize o código abaixo para converter o dicionário `credito` no formato JSON:\n",
        "\n",
        "```python\n",
        "import json\n",
        "\n",
        "credito_json = json.dumps(credito, indent=4)\n",
        "print(credito_json)\n",
        "```\n",
        "\n",
        "**Dica:** Sua solução deve gerar o dicionário Python `credito` igual ao exemplo mas a ordem dos elementos pode variar tranquilamente.\n",
        "\n",
        "**Dica:** Uma excelente forma de remover elementos duplicados de uma lista é convertê-la para `set` e depois para `list` novamente.\n",
        "\n"
      ]
    },
    {
      "cell_type": "code",
      "metadata": {
        "id": "pCMQ5vBPjSXn",
        "colab": {
          "base_uri": "https://localhost:8080/"
        },
        "outputId": "ee76696b-2864-4344-ea26-c47dfe86449c"
      },
      "source": [
        "# solução do exercício 2\n",
        "import openpyxl\n",
        "import json\n",
        "\n",
        "# Carregar o arquivo Excel\n",
        "arquivo_excel = \"credito.xlsx\"\n",
        "\n",
        "# Criar uma instância do workbook (abrir o arquivo Excel)\n",
        "workbook = openpyxl.load_workbook(arquivo_excel)\n",
        "\n",
        "# Verificar os nomes das planilhas disponíveis\n",
        "nomes_planilhas = workbook.sheetnames\n",
        "print(\"Nomes das Planilhas:\", nomes_planilhas)\n",
        "\n",
        "# Selecionar a planilha desejada (por exemplo, a primeira planilha)\n",
        "planilha_nome = nomes_planilhas[0]  # Pode ser ajustado conforme necessário\n",
        "planilha = workbook[planilha_nome]\n",
        "\n",
        "# Inicializar listas para armazenar os dados únicos de escolaridade e tipo_cartao\n",
        "escolaridade_unicas = []\n",
        "tipo_cartao_unicos = []\n",
        "\n",
        "# Iterar sobre as linhas da planilha\n",
        "for linha in planilha.iter_rows(min_row=2, values_only=True):\n",
        "    # Adicionar escolaridade à lista única se ainda não estiver presente\n",
        "    if linha[5] not in escolaridade_unicas:\n",
        "        escolaridade_unicas.append(linha[5])\n",
        "\n",
        "    # Adicionar tipo_cartao à lista única se ainda não estiver presente\n",
        "    if linha[8] not in tipo_cartao_unicos:\n",
        "        tipo_cartao_unicos.append(linha[8])\n",
        "\n",
        "# Fechar o arquivo Excel após a leitura\n",
        "workbook.close()\n",
        "\n",
        "# Construir o dicionário credito\n",
        "credito = {\n",
        "    'tipo_cartao': tipo_cartao_unicos,\n",
        "    'escolaridade': escolaridade_unicas\n",
        "}\n",
        "\n",
        "# Converter o dicionário para JSON\n",
        "credito_json = json.dumps(credito, indent=4)\n",
        "\n",
        "# Imprimir o JSON resultante\n",
        "print(credito_json)\n"
      ],
      "execution_count": null,
      "outputs": [
        {
          "output_type": "stream",
          "name": "stdout",
          "text": [
            "Nomes das Planilhas: ['credito']\n",
            "{\n",
            "    \"tipo_cartao\": [\n",
            "        \"blue\",\n",
            "        \"gold\",\n",
            "        \"silver\",\n",
            "        \"platinum\"\n",
            "    ],\n",
            "    \"escolaridade\": [\n",
            "        \"ensino medio\",\n",
            "        \"mestrado\",\n",
            "        \"sem educacao formal\",\n",
            "        \"na\",\n",
            "        \"graduacao\",\n",
            "        \"doutorado\"\n",
            "    ]\n",
            "}\n"
          ]
        }
      ]
    },
    {
      "cell_type": "markdown",
      "metadata": {
        "id": "As3enQc2GVm1"
      },
      "source": [
        "---"
      ]
    },
    {
      "cell_type": "markdown",
      "metadata": {
        "id": "SS1PxxfHILHs"
      },
      "source": [
        "## 3\\. BÔNUS: Texto para CSV"
      ]
    },
    {
      "cell_type": "markdown",
      "metadata": {
        "id": "i3f-X7y23onm"
      },
      "source": [
        "No arquivo de texto `ebac.txt` você encontra o texto presente no rodapé da página de cursos da EBAC ([link](https://ebaconline.com.br/)).\n",
        "\n"
      ]
    },
    {
      "cell_type": "markdown",
      "metadata": {
        "id": "nKDF9EBH3onp"
      },
      "source": [
        "**Arquivo TXT:** ebac.txt"
      ]
    },
    {
      "cell_type": "code",
      "metadata": {
        "id": "Pyyj5VNnb16w",
        "colab": {
          "base_uri": "https://localhost:8080/"
        },
        "outputId": "ef5562b3-2b72-4c9d-fee8-efecade1a684"
      },
      "source": [
        "%%writefile ebac.txt\n",
        "MÍDIAS SOCIAIS\n",
        "Instagram, Facebook, Youtube, LinkedIn\n",
        "\n",
        "CURSOS\n",
        "Software, Design, Marketing, Audiovisual, Programação & Data, Games\n",
        "\n",
        "WEBINARS\n",
        "Próximos, Anteriores\n",
        "\n",
        "SOBRE\n",
        "Sobre nós, Centro de carreiras, Vagas\n",
        "\n",
        "CONTATO\n",
        "WhatsApp +55 (11) 4200-2991\n",
        "Telefone +55 (11) 3030-3200\n",
        "\n",
        "BLOG\n",
        "Design, Audiovisual, Marketing"
      ],
      "execution_count": null,
      "outputs": [
        {
          "output_type": "stream",
          "name": "stdout",
          "text": [
            "Writing ebac.txt\n"
          ]
        }
      ]
    },
    {
      "cell_type": "markdown",
      "metadata": {
        "id": "R4hMJ6D2ILH3"
      },
      "source": [
        "Extraia os números de contato do arquivo texto `ebac.txt` e salve-os no arquivo csv `contato_ebac.csv` com o separador `;` no seguinte formato:\n",
        "\n",
        "```\n",
        "tipo;numero\n",
        "whatsapp;+551142002991\n",
        "telefone;+551130303200\n",
        "```\n",
        "\n",
        "**Nota:** Escreva o código da sua solução abaixo em uma ou mais células, você não precisa enviar o arquivo csv gerado."
      ]
    },
    {
      "cell_type": "code",
      "metadata": {
        "id": "ogZClDvTILH3",
        "colab": {
          "base_uri": "https://localhost:8080/"
        },
        "outputId": "d5eaed97-4c21-42bf-bfda-7b7afd70be25"
      },
      "source": [
        "# solução do exercício 3 (bônus)\n",
        "import re\n",
        "import csv\n",
        "\n",
        "# Leitura do conteúdo do arquivo ebac.txt\n",
        "with open(\"ebac.txt\", \"r\", encoding=\"utf-8\") as arquivo_texto:\n",
        "    texto = arquivo_texto.read()\n",
        "\n",
        "# Expressão regular para encontrar números de telefone e WhatsApp\n",
        "padrao_telefone = re.compile(r\"\\b(?:\\+\\d{1,2}\\s?)?\\(?\\d{2,3}\\)?[-.\\s]?\\d{3,4}[-.\\s]?\\d{4}\\b\")\n",
        "padrao_whatsapp = re.compile(r\"\\b(?:\\+\\d{1,2}\\s?)?\\(?\\d{2,3}\\)?[-.\\s]?\\d{4,5}[-.\\s]?\\d{4}\\b\")\n",
        "\n",
        "# Encontrar todos os números de telefone e WhatsApp no texto\n",
        "telefones = padrao_telefone.findall(texto)\n",
        "whatsapps = padrao_whatsapp.findall(texto)\n",
        "\n",
        "# Inicializar uma lista para armazenar os contatos\n",
        "contatos = []\n",
        "\n",
        "# Adicionar números de telefone à lista de contatos\n",
        "for telefone in telefones:\n",
        "    # Remover parênteses extras\n",
        "    telefone_limpo = re.sub(r\"[()]\", \"\", telefone)\n",
        "    contatos.append(('telefone', telefone_limpo))\n",
        "\n",
        "# Adicionar números de WhatsApp à lista de contatos\n",
        "for whatsapp in whatsapps:\n",
        "    # Remover parênteses extras\n",
        "    whatsapp_limpo = re.sub(r\"[()]\", \"\", whatsapp)\n",
        "    contatos.append(('whatsapp', whatsapp_limpo))\n",
        "\n",
        "# Salvar os contatos no arquivo CSV\n",
        "arquivo_csv = \"contato_ebac.csv\"\n",
        "\n",
        "with open(arquivo_csv, mode='w', newline='', encoding='utf-8') as csv_file:\n",
        "    # Configurar o escritor CSV usando o delimitador ,\n",
        "    csv_writer = csv.writer(csv_file, delimiter=',')\n",
        "\n",
        "    # Escrever o cabeçalho corrigido no arquivo CSV\n",
        "    csv_writer.writerow([\"tipo\", \"numero\"])\n",
        "\n",
        "    # Escrever os contatos no arquivo CSV\n",
        "    csv_writer.writerows(contatos)\n",
        "\n",
        "print(\"Extração de contatos concluída. Os dados foram salvos em -->> \", arquivo_csv)\n"
      ],
      "execution_count": null,
      "outputs": [
        {
          "output_type": "stream",
          "name": "stdout",
          "text": [
            "Extração de contatos concluída. Os dados foram salvos em -->>  contato_ebac.csv\n"
          ]
        }
      ]
    },
    {
      "cell_type": "markdown",
      "metadata": {
        "id": "Fx--J2bOILH4"
      },
      "source": [
        "---"
      ]
    }
  ]
}